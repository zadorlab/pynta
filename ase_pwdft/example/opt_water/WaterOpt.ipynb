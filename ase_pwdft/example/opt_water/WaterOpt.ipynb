{
 "cells": [
  {
   "cell_type": "markdown",
   "id": "edfa0903",
   "metadata": {},
   "source": [
    "# Example of Optimization using PWDFT as a calculator"
   ]
  },
  {
   "cell_type": "code",
   "execution_count": 1,
   "id": "4150d3de",
   "metadata": {},
   "outputs": [],
   "source": [
    "from ase import Atoms\n",
    "from ase.visualize import view\n",
    "from ase.build import bulk\n",
    "from ase.io import write, Trajectory\n",
    "from ase.cell import *\n",
    "\n",
    "import sys\n",
    "import os\n",
    "import numpy as np\n",
    "import matplotlib.pyplot as plt\n",
    "import ase\n",
    "sys.path.append(\"/home/rayhe/Github/utils_esp/ase_pwdft\")\n",
    "from pwdft import PWDFT\n",
    "from ase.optimize import BFGS                                                                       \n"
   ]
  },
  {
   "cell_type": "code",
   "execution_count": 2,
   "id": "c1e40963",
   "metadata": {},
   "outputs": [],
   "source": [
    "command = 'mpiexec -n 1 /home/rayhe/Github/PWDFT/build_new3/pwdft < PREFIX.nwxi > PREFIX.nwxo'"
   ]
  },
  {
   "cell_type": "code",
   "execution_count": 3,
   "id": "20bcb8ba",
   "metadata": {},
   "outputs": [],
   "source": [
    "water = Atoms(\"HOH\", positions=[[0,0,-1],[0,1,0],[0,0,1]],\n",
    "             cell=[[15,0,0],[0,15,0],[0,0,15]], pbc=(1,1,1),\n",
    "              calculator=PWDFT(command=command, label=\"Water\", echo=True, charge=0,\n",
    "                              nwpw={\"cutoff\":60, \"xc\":\"PBE\", 'loog':'10 250'}\n",
    "                              )\n",
    "             )"
   ]
  },
  {
   "cell_type": "code",
   "execution_count": 4,
   "id": "4669535c",
   "metadata": {},
   "outputs": [],
   "source": [
    "opt1 = BFGS(water, trajectory=\"pwdft.opt.traj\")"
   ]
  },
  {
   "cell_type": "code",
   "execution_count": 5,
   "id": "f8ba8b14",
   "metadata": {},
   "outputs": [
    {
     "name": "stdout",
     "output_type": "stream",
     "text": [
      "      Step     Time          Energy         fmax\n",
      "BFGS:    0 23:02:45     -464.081269        7.9957\n",
      "BFGS:    1 23:07:39     -465.868141        7.2704\n",
      "BFGS:    2 23:13:16     -468.140913        1.9462\n",
      "BFGS:    3 23:17:08     -468.140738        2.8367\n",
      "BFGS:    4 23:20:10     -468.227721        0.7525\n",
      "BFGS:    5 23:22:31     -468.247618        0.6235\n",
      "BFGS:    6 23:25:53     -468.274519        0.1555\n",
      "BFGS:    7 23:27:20     -468.274869        0.0220\n",
      "BFGS:    8 23:27:54     -468.274874        0.0146\n",
      "BFGS:    9 23:28:19     -468.274878        0.0186\n",
      "BFGS:   10 23:28:36     -468.274880        0.0324\n",
      "BFGS:   11 23:28:51     -468.274880        0.0553\n",
      "BFGS:   12 23:28:59     -468.274881        0.0508\n",
      "BFGS:   13 23:29:33     -468.274879        0.0252\n",
      "BFGS:   14 23:29:58     -468.274882        0.0183\n",
      "BFGS:   15 23:30:11     -468.274884        0.0277\n",
      "BFGS:   16 23:30:28     -468.274884        0.0497\n",
      "BFGS:   17 23:30:51     -468.274939        0.0426\n",
      "BFGS:   18 23:31:08     -468.274883        0.0603\n",
      "BFGS:   19 23:31:26     -468.274982        0.0405\n",
      "BFGS:   20 23:31:41     -468.274983        0.0245\n",
      "BFGS:   21 23:31:50     -468.274885        0.0661\n",
      "BFGS:   22 23:31:58     -468.274983        0.0957\n",
      "BFGS:   23 23:32:07     -468.274886        0.0438\n",
      "BFGS:   24 23:32:16     -468.274886        0.0552\n",
      "BFGS:   25 23:32:25     -468.274886        0.0410\n",
      "BFGS:   26 23:32:34     -468.274984        0.0360\n",
      "BFGS:   27 23:32:42     -468.274984        0.0122\n",
      "BFGS:   28 23:32:51     -468.274984        0.0025\n",
      "BFGS:   29 23:33:00     -468.274984        0.0007\n"
     ]
    },
    {
     "data": {
      "text/plain": [
       "True"
      ]
     },
     "execution_count": 5,
     "metadata": {},
     "output_type": "execute_result"
    }
   ],
   "source": [
    "opt1.run(fmax=0.001)"
   ]
  },
  {
   "cell_type": "code",
   "execution_count": null,
   "id": "342c319a",
   "metadata": {},
   "outputs": [],
   "source": []
  }
 ],
 "metadata": {
  "kernelspec": {
   "display_name": "Python 3 (ipykernel)",
   "language": "python",
   "name": "python3"
  },
  "language_info": {
   "codemirror_mode": {
    "name": "ipython",
    "version": 3
   },
   "file_extension": ".py",
   "mimetype": "text/x-python",
   "name": "python",
   "nbconvert_exporter": "python",
   "pygments_lexer": "ipython3",
   "version": "3.9.13"
  }
 },
 "nbformat": 4,
 "nbformat_minor": 5
}
