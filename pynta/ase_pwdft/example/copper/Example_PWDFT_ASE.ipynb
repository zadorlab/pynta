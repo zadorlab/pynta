{
 "cells": [
  {
   "cell_type": "markdown",
   "id": "876244c1",
   "metadata": {},
   "source": [
    "# Example of use PWDFT as a calculator"
   ]
  },
  {
   "cell_type": "code",
   "execution_count": 5,
   "id": "5a2e405d",
   "metadata": {},
   "outputs": [],
   "source": [
    "from ase import Atoms\n",
    "from ase.visualize import view\n",
    "from ase.build import bulk\n",
    "from ase.io import write, Trajectory\n",
    "from ase.cell import *\n",
    "\n",
    "import sys\n",
    "import os\n",
    "import numpy as np\n",
    "import matplotlib.pyplot as plt\n",
    "import ase\n",
    "sys.path.append(\"/home/rayhe/Github/utils_esp/ase_pwdft\")\n",
    "from pwdft import PWDFT"
   ]
  },
  {
   "cell_type": "markdown",
   "id": "bf9b2a77",
   "metadata": {},
   "source": [
    "the line 'mpiexec -n 1 /home/rayhe/Github/PWDFT/build_new3/pwdft' indicates where binary is located, also I can increase the numper of mpiranks with -n $num"
   ]
  },
  {
   "cell_type": "code",
   "execution_count": 6,
   "id": "11a7218f",
   "metadata": {},
   "outputs": [],
   "source": [
    "Cu_pos = [[0.0, 0.0, 0.0],\n",
    "        [0.0, 1, 1],\n",
    "        [1, 0.0, 1],\n",
    "        [1, 1, 0.0]]\n",
    "Cu_cell = [\n",
    "        [2.0, 0.0, 0.0],\n",
    "        [0.0, 2.0, 0.0],\n",
    "        [0.0, 0.0, 2.0]]\n",
    "\n",
    "command = 'mpiexec -n 1 /home/rayhe/Github/PWDFT/build_new3/pwdft < PREFIX.nwxi > PREFIX.nwxo'\n",
    "cu = Atoms(\"Cu4\", \n",
    "           positions=Cu_pos, \n",
    "           cell=Cu_cell, pbc=(1,1,1),\n",
    "           calculator=PWDFT(command=command,label='Cu',echo=True,charge=0\n",
    "                             ,nwpw={'cutoff':60, 'xc':'PBE', 'loop':'10 250'}\n",
    "                            )\n",
    "          )"
   ]
  },
  {
   "cell_type": "code",
   "execution_count": 7,
   "id": "c146b0cd",
   "metadata": {},
   "outputs": [
    {
     "data": {
      "text/plain": [
       "array([[-0.00011824, -0.00317398, -0.00014334],\n",
       "       [-0.00059534,  0.00418138, -0.00011066],\n",
       "       [-0.00026893, -0.00893213,  0.0002258 ],\n",
       "       [ 0.00088577,  0.00788889,  0.00026748]])"
      ]
     },
     "execution_count": 7,
     "metadata": {},
     "output_type": "execute_result"
    }
   ],
   "source": [
    "cu.get_forces()"
   ]
  },
  {
   "cell_type": "code",
   "execution_count": 8,
   "id": "265e527f",
   "metadata": {},
   "outputs": [
    {
     "data": {
      "text/plain": [
       "-5391.361579138844"
      ]
     },
     "execution_count": 8,
     "metadata": {},
     "output_type": "execute_result"
    }
   ],
   "source": [
    "cu.get_potential_energy()"
   ]
  },
  {
   "cell_type": "code",
   "execution_count": null,
   "id": "eabda654",
   "metadata": {},
   "outputs": [],
   "source": []
  }
 ],
 "metadata": {
  "kernelspec": {
   "display_name": "Python 3 (ipykernel)",
   "language": "python",
   "name": "python3"
  },
  "language_info": {
   "codemirror_mode": {
    "name": "ipython",
    "version": 3
   },
   "file_extension": ".py",
   "mimetype": "text/x-python",
   "name": "python",
   "nbconvert_exporter": "python",
   "pygments_lexer": "ipython3",
   "version": "3.8.16"
  }
 },
 "nbformat": 4,
 "nbformat_minor": 5
}
