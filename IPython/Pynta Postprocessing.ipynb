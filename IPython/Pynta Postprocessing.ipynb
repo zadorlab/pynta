{
 "cells": [
  {
   "cell_type": "code",
   "execution_count": null,
   "id": "1b35dcf5",
   "metadata": {},
   "outputs": [],
   "source": [
    "from pynta.postprocessing import *\n",
    "from ase.visualize import view\n",
    "import json"
   ]
  },
  {
   "cell_type": "markdown",
   "id": "98819bef-df6b-488d-bea1-3205dba73cee",
   "metadata": {},
   "source": [
    "# Surface Information and Reference Energies"
   ]
  },
  {
   "cell_type": "code",
   "execution_count": null,
   "id": "066c675b-bdc0-4dc0-92b3-fdb3598528ab",
   "metadata": {},
   "outputs": [],
   "source": [
    "path = \"../pynta/testing_data/Ru0001_fischer_tropsch_3_17_25\"\n",
    "\n",
    "#Surface information\n",
    "metal = \"Ru\" #specify the metal\n",
    "facet = \"hcp0001\" #specify the facet\n",
    "slab = read(os.path.join(path,\"slab.xyz\"))\n",
    "nslab = len(slab)\n",
    "site_density = get_site_density(slab,metal,facet)\n",
    "\n",
    "#Site Information\n",
    "cas = SlabAdsorptionSites(slab, facet,allow_6fold=False,composition_effect=False,\n",
    "                            label_sites=True,\n",
    "                            surrogate_metal=metal)\n",
    "sites = cas.get_sites()\n",
    "site_adjacency = cas.get_neighbor_site_list()\n",
    "\n",
    "#Reference Energies\n",
    "c_ref,o_ref,h_ref,n_ref = get_reference_energies(os.path.join(path,\"Adsorbates\"),nslab)"
   ]
  },
  {
   "cell_type": "markdown",
   "id": "d3774098",
   "metadata": {},
   "source": [
    "# Analyze Species"
   ]
  },
  {
   "cell_type": "code",
   "execution_count": null,
   "id": "cb8417a3",
   "metadata": {},
   "outputs": [],
   "source": [
    "ad_path = os.path.join(path,\"Adsorbates\",\"O[Pt]\") #specify the path to the Pynta species directory"
   ]
  },
  {
   "cell_type": "code",
   "execution_count": null,
   "id": "4e3579e9-c5d7-4402-8f82-b391645ace31",
   "metadata": {},
   "outputs": [],
   "source": [
    "spcs = get_species(ad_path,os.path.split(ad_path)[0],metal,facet,slab,sites,site_adjacency,nslab,c_ref=c_ref,o_ref=o_ref,h_ref=h_ref,\n",
    "               n_ref=n_ref) #all configurations\n",
    "minspc = spcs[min({k:v for k,v in spcs.items() if v.valid},key=lambda x: spcs[x].energy)] #lowest energy valid configuration"
   ]
  },
  {
   "cell_type": "code",
   "execution_count": null,
   "id": "562a7229-362e-4bc7-82f5-2684fb0436dc",
   "metadata": {},
   "outputs": [],
   "source": [
    "print(\"Relative Energies of Configurations: {} [eV]\".format({k:v.energy - minspc.energy for k,v in spcs.items()}))\n",
    "print(\"Validity of Configurations: {}\".format({k:v.valid for k,v in spcs.items()}))"
   ]
  },
  {
   "cell_type": "code",
   "execution_count": null,
   "id": "0d68d09b-bf37-4257-b9db-b482fab88b63",
   "metadata": {},
   "outputs": [],
   "source": [
    "#view(s.atoms for s in spcs.values()) #see all configurations"
   ]
  },
  {
   "cell_type": "code",
   "execution_count": null,
   "id": "ea382d4d-4aa6-4c56-8e74-a166f9600d09",
   "metadata": {},
   "outputs": [],
   "source": [
    "#Individual species\n",
    "spc = minspc #or spc = spcs['0'] etc."
   ]
  },
  {
   "cell_type": "code",
   "execution_count": null,
   "id": "18cef3e9-2c5f-4938-abf0-2922ebe562cc",
   "metadata": {},
   "outputs": [],
   "source": [
    "print(\"Frequencies: {} cm^-1\".format(spc.vibdata.get_frequencies()))"
   ]
  },
  {
   "cell_type": "code",
   "execution_count": null,
   "id": "e43cda07-3915-44d3-a3f9-1d80dd8bc76f",
   "metadata": {},
   "outputs": [],
   "source": [
    "print(\"Hf298: {} kcal/mol\".format(spc.heat_of_formation_298K/4184.0))\n",
    "print(\"Sf298: {} cal/(mol K)\".format(spc.entropy_of_formation_298K/4.184))"
   ]
  },
  {
   "cell_type": "code",
   "execution_count": null,
   "id": "6fe8dff8-6d62-44d1-8686-9b962740c568",
   "metadata": {},
   "outputs": [],
   "source": [
    "#view(spc.atoms) #see individual configuration"
   ]
  },
  {
   "cell_type": "code",
   "execution_count": null,
   "id": "c130d791-a9df-426f-bde7-3f15781546e9",
   "metadata": {},
   "outputs": [],
   "source": [
    "#Specific Thermodynamic Properties J-mol-K\n",
    "T = 1000.0\n",
    "print(\"Gf(T={0}): {1} kcal/mol\".format(T,spc.nasa.get_free_energy(T)/4184.0))\n",
    "print(\"Hf(T={0}): {1} kcal/mol\".format(T,spc.nasa.get_enthalpy(T)/4184.0))\n",
    "print(\"Sf(T={0}): {1} cal/(mol K)\".format(T,spc.nasa.get_entropy(T)/4.184))\n",
    "print(\"Cp(T={0}): {1} cal/(mol K)\".format(T,spc.nasa.get_heat_capacity(T)/4.184))"
   ]
  },
  {
   "cell_type": "markdown",
   "id": "9bd32ec2",
   "metadata": {},
   "source": [
    "# Analyze Transition State\n"
   ]
  },
  {
   "cell_type": "code",
   "execution_count": null,
   "id": "02d9c6ab",
   "metadata": {},
   "outputs": [],
   "source": [
    "ts_path = os.path.join(path,\"TS3\") #specify the TS directory to analyze"
   ]
  },
  {
   "cell_type": "code",
   "execution_count": null,
   "id": "db46993c",
   "metadata": {},
   "outputs": [],
   "source": [
    "plot_eharm(ts_path,Eharmtol=3.0,Eharmfiltertol=30.0) #plot the harmonic energies of the transition state guesses and cutoffs "
   ]
  },
  {
   "cell_type": "code",
   "execution_count": null,
   "id": "a250e803-73de-46f8-ba1e-2f6e9533f7a8",
   "metadata": {},
   "outputs": [],
   "source": [
    "kinetics = get_kinetics(ts_path,os.path.join(os.path.split(ts_path)[0],\"Adsorbates\"),metal,facet,slab,sites,site_adjacency,nslab,site_density,\n",
    "                c_ref=c_ref,o_ref=o_ref,h_ref=0.0,n_ref=0.0)\n",
    "minkinind = min({k:v for k,v in kinetics.items() if v.valid},key=lambda x: kinetics[x].barrier_f) #index of lowest energy valid configuration"
   ]
  },
  {
   "cell_type": "code",
   "execution_count": null,
   "id": "d1e5cbf8-0904-4bc1-bd67-ecf51917a1e8",
   "metadata": {},
   "outputs": [],
   "source": [
    "print(kinetics[minkinind].reaction_str) #Reaction String"
   ]
  },
  {
   "cell_type": "code",
   "execution_count": null,
   "id": "18e76325-2d76-4996-a2ec-ece5ba54a352",
   "metadata": {},
   "outputs": [],
   "source": [
    "print(\"Forward Barriers: {} [eV]\".format({k:v.barrier_f for k,v in kinetics.items()}))\n",
    "print(\"Reverse Barriers: {} [eV]\".format({k:v.barrier_r for k,v in kinetics.items()}))\n",
    "print(\"Automated Validity Determination: {}\".format({k:v.valid for k,v in kinetics.items()}))"
   ]
  },
  {
   "cell_type": "code",
   "execution_count": null,
   "id": "0c7736b5-c218-4dbd-bc52-d58c6e7c709e",
   "metadata": {},
   "outputs": [],
   "source": [
    "#Individual Transition States/Kinetics\n",
    "ind = minkinind #'7' etc.\n",
    "kin = kinetics[ind]"
   ]
  },
  {
   "cell_type": "code",
   "execution_count": null,
   "id": "56273b21",
   "metadata": {},
   "outputs": [],
   "source": [
    "print(\"Frequencies: {} cm^-1\".format(kin.transition_state.vibdata.get_frequencies()))"
   ]
  },
  {
   "cell_type": "code",
   "execution_count": null,
   "id": "786d1875-f598-468d-af86-7289b49cd7dc",
   "metadata": {},
   "outputs": [],
   "source": [
    "kin.arr_f #Forward rate coefficient"
   ]
  },
  {
   "cell_type": "code",
   "execution_count": null,
   "id": "18895197",
   "metadata": {},
   "outputs": [],
   "source": [
    "kin.arr_r #Reverse rate coefficient"
   ]
  },
  {
   "cell_type": "code",
   "execution_count": null,
   "id": "e29310df-2ec0-47bd-ade1-3d653c26384e",
   "metadata": {},
   "outputs": [],
   "source": [
    "#Specific Thermodynamic Properties J-mol-K\n",
    "T = 1000.0\n",
    "print(\"dGrxn(T={0}): {1} kcal/mol\".format(T,kin.get_gibbs_energy_reaction(T)/4184.0))\n",
    "print(\"dHrxn(T={0}): {1} kcal/mol\".format(T,kin.get_enthalpy_reaction(T)/4184.0))\n",
    "print(\"dSrxn(T={0}): {1} cal/(mol K)\".format(T,kin.get_entropy_reaction(T)/4.184))"
   ]
  },
  {
   "cell_type": "code",
   "execution_count": null,
   "id": "3e1c27a4-7dda-44b5-85d5-3ffceecbe56b",
   "metadata": {},
   "outputs": [],
   "source": [
    "#Check TS Validity Information\n",
    "kin.valid_info"
   ]
  },
  {
   "cell_type": "code",
   "execution_count": null,
   "id": "d6b012de-19ae-49df-a754-2aa45a97c8b7",
   "metadata": {},
   "outputs": [],
   "source": [
    "#Visualize TS\n",
    "view(read(os.path.join(ts_path,ind,\"opt.xyz\")))"
   ]
  },
  {
   "cell_type": "code",
   "execution_count": null,
   "id": "0c434c69-601c-4979-93ab-da3d9e5dd9a0",
   "metadata": {},
   "outputs": [],
   "source": [
    "#Visualize IRC1 \n",
    "view(Trajectory(os.path.join(ts_path,ind,\"irc_forward.traj\")))"
   ]
  },
  {
   "cell_type": "code",
   "execution_count": null,
   "id": "8ca26f82-d6e7-4aea-bbd5-78628c0b43be",
   "metadata": {},
   "outputs": [],
   "source": [
    "#Visualize IRC2\n",
    "view(Trajectory(os.path.join(ts_path,ind,\"irc_reverse.traj\")))"
   ]
  },
  {
   "cell_type": "code",
   "execution_count": null,
   "id": "d0a8cab1-1637-4440-b45b-4e109529908d",
   "metadata": {},
   "outputs": [],
   "source": [
    "#Visualize Imaginary Frequency\n",
    "view(Trajectory(os.path.join(ts_path,ind,\"vib.0.traj\")))"
   ]
  },
  {
   "cell_type": "code",
   "execution_count": null,
   "id": "9ed7745f",
   "metadata": {},
   "outputs": [],
   "source": []
  }
 ],
 "metadata": {
  "kernelspec": {
   "display_name": "Python 3 (ipykernel)",
   "language": "python",
   "name": "python3"
  },
  "language_info": {
   "codemirror_mode": {
    "name": "ipython",
    "version": 3
   },
   "file_extension": ".py",
   "mimetype": "text/x-python",
   "name": "python",
   "nbconvert_exporter": "python",
   "pygments_lexer": "ipython3",
   "version": "3.8.20"
  }
 },
 "nbformat": 4,
 "nbformat_minor": 5
}
