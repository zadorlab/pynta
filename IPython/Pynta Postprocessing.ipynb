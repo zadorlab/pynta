{
 "cells": [
  {
   "cell_type": "code",
   "execution_count": 1,
   "id": "a9583eb0",
   "metadata": {},
   "outputs": [],
   "source": [
    "import sys\n",
    "sys.path.append(\"/Users/shikim/code/pynta_local/pynta/\")"
   ]
  },
  {
   "cell_type": "code",
   "execution_count": 2,
   "id": "1b35dcf5",
   "metadata": {},
   "outputs": [],
   "source": [
    "from pynta.postprocessing import *\n",
    "from ase.visualize import view\n",
    "import json"
   ]
  },
  {
   "cell_type": "markdown",
   "id": "d3774098",
   "metadata": {},
   "source": [
    "# Analyze Species"
   ]
  },
  {
   "cell_type": "code",
   "execution_count": 3,
   "id": "9d11ba4c",
   "metadata": {},
   "outputs": [],
   "source": [
    "functional = 'BEEF-vdW'\n",
    "pseudo = 'PAW'\n",
    "metal = \"Pt\" #specify the metal\n",
    "facet = \"fcc111\" #specify the facet\n",
    "lattice_constant = 3.91 "
   ]
  },
  {
   "cell_type": "code",
   "execution_count": 4,
   "id": "cb8417a3",
   "metadata": {},
   "outputs": [],
   "source": [
    "path = \"/Users/shikim/production/pynta-production/for_shinae_hb/nh3-vdw-pt111-forMatt_hb_yesdiffusion_vib/Adsorbates/N[Pt]\""
   ]
  },
  {
   "cell_type": "code",
   "execution_count": 5,
   "id": "77e8fdb6",
   "metadata": {},
   "outputs": [],
   "source": [
    "write_slab_db(path,functional,pseudo,lattice_constant,facet)"
   ]
  },
  {
   "cell_type": "code",
   "execution_count": 6,
   "id": "8414cbc8",
   "metadata": {},
   "outputs": [],
   "source": [
    "Es,_,freqs = get_adsorbate_energies(path) #extract species information"
   ]
  },
  {
   "cell_type": "code",
   "execution_count": 7,
   "id": "e52fe41d",
   "metadata": {},
   "outputs": [
    {
     "data": {
      "text/plain": [
       "{'0': -426.10433700005524, '1': -426.1046808013343, '3': -425.74558985664044}"
      ]
     },
     "execution_count": 7,
     "metadata": {},
     "output_type": "execute_result"
    }
   ],
   "source": [
    "Es #energies for each unique successful species calculations"
   ]
  },
  {
   "cell_type": "code",
   "execution_count": 8,
   "id": "bab9cf27",
   "metadata": {},
   "outputs": [
    {
     "data": {
      "text/plain": [
       "{'0': [(201.94193643655098+0j),\n",
       "  (327.325887994868+0j),\n",
       "  (448.04500209129316+0j),\n",
       "  (693.1445085208824+0j),\n",
       "  (760.2628099610442+0j),\n",
       "  (796.7789391711783+0j),\n",
       "  (1512.1449293653186+0j),\n",
       "  (3417.409723845569+0j),\n",
       "  (3522.248035644658+0j)],\n",
       " '1': [(211.8867947336871+0j),\n",
       "  (326.892083497916+0j),\n",
       "  (446.25050331692535+0j),\n",
       "  (690.9968184328053+0j),\n",
       "  (762.7389128602521+0j),\n",
       "  (795.4641156526192+0j),\n",
       "  (1513.3750294518761+0j),\n",
       "  (3424.1433741129254+0j),\n",
       "  (3528.5185907435452+0j)],\n",
       " '3': [30.252499503843005j,\n",
       "  (72.18077245886064+0j),\n",
       "  (112.93205447505244+0j),\n",
       "  (476.46572985938855+0j),\n",
       "  (723.0357462933347+0j),\n",
       "  (874.0123242915435+0j),\n",
       "  (1495.741000991355+0j),\n",
       "  (3379.0603726260483+0j),\n",
       "  (3485.0127210691926+0j)]}"
      ]
     },
     "execution_count": 8,
     "metadata": {},
     "output_type": "execute_result"
    }
   ],
   "source": [
    "freqs #frequencies for each unique successful species calculations"
   ]
  },
  {
   "cell_type": "code",
   "execution_count": 9,
   "id": "1db7c480",
   "metadata": {},
   "outputs": [
    {
     "data": {
      "text/plain": [
       "{'name': 'N[Pt]',\n",
       " 'adjlist': '1 N u0 p1 c0 {2,S} {3,S} {4,S}\\n2 H u0 p0 c0 {1,S}\\n3 H u0 p0 c0 {1,S}\\n4 X u0 p0 c0 {1,S}\\n',\n",
       " 'atom_to_molecule_atom_map': {'0': 0, '1': 1, '2': 2},\n",
       " 'gratom_to_molecule_surface_atom_map': {'0': 0},\n",
       " 'nslab': 36}"
      ]
     },
     "execution_count": 9,
     "metadata": {},
     "output_type": "execute_result"
    }
   ],
   "source": [
    "json.load(open(os.path.join(path,\"info.json\"))) #General Species Information"
   ]
  },
  {
   "cell_type": "code",
   "execution_count": 10,
   "id": "068aeb86",
   "metadata": {},
   "outputs": [],
   "source": [
    "for d in os.listdir(path): #display all of the species geometries\n",
    "    if d != \"info.json\" and os.path.exists(os.path.join(path,d,\"vib.json_vib.json\")):\n",
    "        view(read(os.path.join(path,d,d+\".xyz\")))     "
   ]
  },
  {
   "cell_type": "code",
   "execution_count": 11,
   "id": "08b656c3",
   "metadata": {},
   "outputs": [
    {
     "data": {
      "text/plain": [
       "<subprocess.Popen at 0x7fdfe1a720a0>"
      ]
     },
     "execution_count": 11,
     "metadata": {},
     "output_type": "execute_result"
    }
   ],
   "source": [
    "ind = 0 #display species geometry associated with specified index\n",
    "view(read(os.path.join(path,str(ind),str(ind)+\".xyz\")))"
   ]
  },
  {
   "cell_type": "code",
   "execution_count": 12,
   "id": "a4e9b53b",
   "metadata": {},
   "outputs": [],
   "source": [
    "write_adsorbate_db(path,functional,pseudo,freqs)"
   ]
  },
  {
   "cell_type": "markdown",
   "id": "9bd32ec2",
   "metadata": {},
   "source": [
    "# Analyze Transition State\n"
   ]
  },
  {
   "cell_type": "code",
   "execution_count": 13,
   "id": "02d9c6ab",
   "metadata": {},
   "outputs": [],
   "source": [
    "path = \"/Users/shikim/production/pynta-production/for_shinae_hb/nh3-vdw-pt111-forMatt_hb_yesdiffusion_vib/TS0\"#specify the TS directory to analyze\n",
    "metal = \"Pt\" #specify the metal\n",
    "facet = \"fcc111\" #specify the facet"
   ]
  },
  {
   "cell_type": "code",
   "execution_count": 14,
   "id": "db46993c",
   "metadata": {},
   "outputs": [
    {
     "data": {
      "image/png": "[encoded data removed]",
      "text/plain": [
       "<Figure size 640x480 with 1 Axes>"
      ]
     },
     "metadata": {},
     "output_type": "display_data"
    }
   ],
   "source": [
    "plot_eharm(path,Eharmtol=3.0,Eharmfiltertol=30.0) #plot the harmonic energies of the transition state guesses and cutoffs "
   ]
  },
  {
   "cell_type": "code",
   "execution_count": 15,
   "id": "8f5c68a4",
   "metadata": {},
   "outputs": [],
   "source": [
    "Es,thermos,freqs = get_energies(path) #extract transition state information"
   ]
  },
  {
   "cell_type": "code",
   "execution_count": 16,
   "id": "d916e140",
   "metadata": {},
   "outputs": [
    {
     "data": {
      "text/plain": [
       "{'66': -782.8996406454244, '62': -783.0919547639205, '84': -782.9653538080165}"
      ]
     },
     "execution_count": 16,
     "metadata": {},
     "output_type": "execute_result"
    }
   ],
   "source": [
    "Es #energies for each unique successful saddle point optimization"
   ]
  },
  {
   "cell_type": "code",
   "execution_count": 17,
   "id": "56273b21",
   "metadata": {},
   "outputs": [
    {
     "data": {
      "text/plain": [
       "{'66': array([  0.        +636.22534109j, 207.31346786  +0.j        ,\n",
       "        239.28630439  +0.j        , 361.5459269   +0.j        ,\n",
       "        366.22945112  +0.j        , 452.3258527   +0.j        ]),\n",
       " '62': array([  0.        +533.25395524j, 233.47600812  +0.j        ,\n",
       "        311.8400834   +0.j        , 433.6942544   +0.j        ,\n",
       "        517.43504863  +0.j        , 547.86351313  +0.j        ]),\n",
       " '84': array([  0.        +515.82921591j, 220.43032856  +0.j        ,\n",
       "        292.49191149  +0.j        , 434.61524873  +0.j        ,\n",
       "        515.69024417  +0.j        , 542.59617987  +0.j        ])}"
      ]
     },
     "execution_count": 17,
     "metadata": {},
     "output_type": "execute_result"
    }
   ],
   "source": [
    "freqs #frequencies for each unique successful saddle point optimization"
   ]
  },
  {
   "cell_type": "code",
   "execution_count": 18,
   "id": "6887dfc0",
   "metadata": {},
   "outputs": [
    {
     "data": {
      "text/plain": [
       "{'forward': True,\n",
       " 'name': 'N2 + 2X => 2 NX',\n",
       " 'reactants': '1 *1 N u0 p1 c0 {3,T}\\n2 *2 N u0 p1 c0 {4,T}\\n3 *3 X u0 p0 c0 {1,T}\\n4 *4 X u0 p0 c0 {2,T}\\n',\n",
       " 'products': '1 *1 N u0 p1 c0 {2,T}\\n2 *2 N u0 p1 c0 {1,T}\\n3 *3 X u0 p0 c0\\n4 *4 X u0 p0 c0\\n',\n",
       " 'species_names': ['N#[Pt]', 'N#[Pt]'],\n",
       " 'nslab': 36,\n",
       " 'mols': ['1 N u0 p1 c0 {2,T}\\n2 X u0 p0 c0 {1,T}\\n',\n",
       "  '1 N u0 p1 c0 {2,T}\\n2 X u0 p0 c0 {1,T}\\n'],\n",
       " 'ads_sizes': [1, 1],\n",
       " 'template_mol_map': [{'2': 1, '0': 0}, {'1': 0, '3': 1}],\n",
       " 'reverse_names': ['N#N'],\n",
       " 'molecule_to_atom_maps': [{'0': 0}, {'0': 0}]}"
      ]
     },
     "execution_count": 18,
     "metadata": {},
     "output_type": "execute_result"
    }
   ],
   "source": [
    "info = json.load(open(os.path.join(path,\"info.json\"),'r')) #General Transition State Information\n",
    "info"
   ]
  },
  {
   "cell_type": "code",
   "execution_count": 19,
   "id": "82aa4e01",
   "metadata": {},
   "outputs": [],
   "source": [
    "fdEs,rdEs,farrs,rarrs,rthermos,pthermos = get_kinetics(path,metal,facet) #calculate barriers and rate coefficients"
   ]
  },
  {
   "cell_type": "code",
   "execution_count": 20,
   "id": "9f26eae8",
   "metadata": {},
   "outputs": [
    {
     "data": {
      "text/plain": [
       "['N#[Pt]', 'N#[Pt]']"
      ]
     },
     "execution_count": 20,
     "metadata": {},
     "output_type": "execute_result"
    }
   ],
   "source": [
    "info[\"species_names\"] #Reactants in forward direction"
   ]
  },
  {
   "cell_type": "code",
   "execution_count": 21,
   "id": "9ed8fc01",
   "metadata": {},
   "outputs": [
    {
     "data": {
      "text/plain": [
       "{'66': -782.8996406454244, '62': -783.0919547639205, '84': -782.9653538080165}"
      ]
     },
     "execution_count": 21,
     "metadata": {},
     "output_type": "execute_result"
    }
   ],
   "source": [
    "fdEs #forward barriers"
   ]
  },
  {
   "cell_type": "code",
   "execution_count": 22,
   "id": "18895197",
   "metadata": {},
   "outputs": [
    {
     "data": {
      "text/plain": [
       "{}"
      ]
     },
     "execution_count": 22,
     "metadata": {},
     "output_type": "execute_result"
    }
   ],
   "source": [
    "farrs #forward rate coefficients"
   ]
  },
  {
   "cell_type": "code",
   "execution_count": 23,
   "id": "43df3d39",
   "metadata": {},
   "outputs": [
    {
     "data": {
      "text/plain": [
       "['N#N']"
      ]
     },
     "execution_count": 23,
     "metadata": {},
     "output_type": "execute_result"
    }
   ],
   "source": [
    "info[\"reverse_names\"] #Reactants in the reverse direction"
   ]
  },
  {
   "cell_type": "code",
   "execution_count": 24,
   "id": "13e60de4",
   "metadata": {},
   "outputs": [
    {
     "data": {
      "text/plain": [
       "{'66': 3.6880220452380854, '62': 3.495707926741943, '84': 3.622308882645939}"
      ]
     },
     "execution_count": 24,
     "metadata": {},
     "output_type": "execute_result"
    }
   ],
   "source": [
    "rdEs #reverse barriers\n"
   ]
  },
  {
   "cell_type": "code",
   "execution_count": 25,
   "id": "137b55d7",
   "metadata": {},
   "outputs": [
    {
     "data": {
      "text/plain": [
       "{'66': SurfaceArrhenius(A=(1.44967e-46,'m^5/(molecules^2*s)'), n=1.96842, Ea=(350.734,'kJ/mol'), T0=(1,'K'), Tmin=(298,'K'), Tmax=(2500,'K'), comment=\"\"\"Fitted to 50 data points; dA = *|/ 1.06173, dn = +|- 0.00758407, dEa = +|- 0.0526812 kJ/mol\"\"\"),\n",
       " '62': SurfaceArrhenius(A=(9.8604e-47,'m^5/(molecules^2*s)'), n=1.88326, Ea=(330.973,'kJ/mol'), T0=(1,'K'), Tmin=(298,'K'), Tmax=(2500,'K'), comment=\"\"\"Fitted to 50 data points; dA = *|/ 1.03836, dn = +|- 0.00476562, dEa = +|- 0.0331034 kJ/mol\"\"\"),\n",
       " '84': SurfaceArrhenius(A=(1.06737e-46,'m^5/(molecules^2*s)'), n=1.88958, Ea=(343.323,'kJ/mol'), T0=(1,'K'), Tmin=(298,'K'), Tmax=(2500,'K'), comment=\"\"\"Fitted to 50 data points; dA = *|/ 1.0395, dn = +|- 0.00490539, dEa = +|- 0.0340743 kJ/mol\"\"\")}"
      ]
     },
     "execution_count": 25,
     "metadata": {},
     "output_type": "execute_result"
    }
   ],
   "source": [
    "rarrs #reverse rate coefficients\n"
   ]
  },
  {
   "cell_type": "code",
   "execution_count": 26,
   "id": "66ec7253",
   "metadata": {},
   "outputs": [
    {
     "data": {
      "text/plain": [
       "-75943.42639498618"
      ]
     },
     "execution_count": 26,
     "metadata": {},
     "output_type": "execute_result"
    }
   ],
   "source": [
    "get_gibbs_energy_reaction(rthermos,pthermos,298.)/1000.0 #Gibbs free energy of reaction at 298 K in kJ/mol"
   ]
  },
  {
   "cell_type": "code",
   "execution_count": 27,
   "id": "06ac822b",
   "metadata": {},
   "outputs": [
    {
     "data": {
      "text/plain": [
       "197.45916810492312"
      ]
     },
     "execution_count": 27,
     "metadata": {},
     "output_type": "execute_result"
    }
   ],
   "source": [
    "get_entropy_reaction(rthermos,pthermos,298.) #Entropy of reaciton at 298 K in J/(mol K)"
   ]
  },
  {
   "cell_type": "code",
   "execution_count": 28,
   "id": "f9c16e4e",
   "metadata": {},
   "outputs": [
    {
     "data": {
      "text/plain": [
       "-75884.58356289091"
      ]
     },
     "execution_count": 28,
     "metadata": {},
     "output_type": "execute_result"
    }
   ],
   "source": [
    "get_enthalpy_reaction(rthermos,pthermos,298.)/1000.0 #Enthalpy of reaction at 298 K in kJ/mol"
   ]
  },
  {
   "cell_type": "code",
   "execution_count": 29,
   "id": "7505b3b4",
   "metadata": {},
   "outputs": [],
   "source": [
    "rate_data = parse_all_surface_arrhenius(rarrs)\n",
    "write_rate_db(path,rate_data)"
   ]
  },
  {
   "cell_type": "code",
   "execution_count": 31,
   "id": "147dff2f",
   "metadata": {},
   "outputs": [],
   "source": [
    "write_ts_db(path,functional,pseudo,freqs)"
   ]
  },
  {
   "cell_type": "markdown",
   "id": "65e1b9e7",
   "metadata": {},
   "source": [
    "# Look at Individual TS "
   ]
  },
  {
   "cell_type": "code",
   "execution_count": null,
   "id": "5f9a8a07",
   "metadata": {},
   "outputs": [],
   "source": [
    "ind = \"66\" #specify the index of the transition state to examine\n",
    "tsdir = os.path.join(path,ind)"
   ]
  },
  {
   "cell_type": "code",
   "execution_count": null,
   "id": "993ed844",
   "metadata": {},
   "outputs": [],
   "source": [
    "view(read(os.path.join(tsdir,\"opt.xyz\"))) #TS geometry"
   ]
  },
  {
   "cell_type": "code",
   "execution_count": null,
   "id": "a8cc3b7a",
   "metadata": {
    "scrolled": true
   },
   "outputs": [],
   "source": [
    "tr = Trajectory(os.path.join(tsdir,\"irc_forward.traj\")) #first IRC\n",
    "view(tr)"
   ]
  },
  {
   "cell_type": "code",
   "execution_count": null,
   "id": "57b84fc0",
   "metadata": {},
   "outputs": [],
   "source": [
    "tr = Trajectory(os.path.join(tsdir,\"irc_reverse.traj\")) #second IRC\n",
    "view(tr)"
   ]
  },
  {
   "cell_type": "code",
   "execution_count": null,
   "id": "0eda63db",
   "metadata": {},
   "outputs": [],
   "source": [
    "tr = Trajectory(os.path.join(tsdir,'vib.0.traj')) #Imaginary Mode\n",
    "view(tr)"
   ]
  },
  {
   "cell_type": "code",
   "execution_count": null,
   "id": "9ed7745f",
   "metadata": {},
   "outputs": [],
   "source": []
  }
 ],
 "metadata": {
  "kernelspec": {
   "display_name": "Python 3.8.15 ('pynta_env')",
   "language": "python",
   "name": "python3"
  },
  "language_info": {
   "codemirror_mode": {
    "name": "ipython",
    "version": 3
   },
   "file_extension": ".py",
   "mimetype": "text/x-python",
   "name": "python",
   "nbconvert_exporter": "python",
   "pygments_lexer": "ipython3",
   "version": "3.8.15"
  },
  "vscode": {
   "interpreter": {
    "hash": "497a1e6422a73997474db2888616a4dca116f11d0562e5e867b2970fb18557fb"
   }
  }
 },
 "nbformat": 4,
 "nbformat_minor": 5
}
