{
 "cells": [
  {
   "cell_type": "code",
   "execution_count": null,
   "id": "1b35dcf5",
   "metadata": {},
   "outputs": [],
   "source": [
    "from pynta.postprocessing import *\n",
    "from ase.visualize import view\n",
    "import json\n",
    "from ase.io import read"
   ]
  },
  {
   "cell_type": "markdown",
   "id": "d3774098",
   "metadata": {},
   "source": [
    "# Analyze Species"
   ]
  },
  {
   "cell_type": "code",
   "execution_count": null,
   "id": "cb8417a3",
   "metadata": {},
   "outputs": [],
   "source": [
    "path = \"/Users/mjohns9/Runs/pynta/Cu111_paper_rxns/Adsorbates/[Pt]\" #specify the path to the Pynta species directory"
   ]
  },
  {
   "cell_type": "code",
   "execution_count": null,
   "id": "8414cbc8",
   "metadata": {},
   "outputs": [],
   "source": [
    "Es,_,freqs = get_adsorbate_energies(path) #extract species information"
   ]
  },
  {
   "cell_type": "code",
   "execution_count": null,
   "id": "e52fe41d",
   "metadata": {},
   "outputs": [],
   "source": [
    "Es #energies for each unique successful species calculations"
   ]
  },
  {
   "cell_type": "code",
   "execution_count": null,
   "id": "bab9cf27",
   "metadata": {},
   "outputs": [],
   "source": [
    "freqs #frequencies for each unique successful species calculations"
   ]
  },
  {
   "cell_type": "code",
   "execution_count": null,
   "id": "1db7c480",
   "metadata": {},
   "outputs": [],
   "source": [
    "json.load(open(os.path.join(path,\"info.json\"))) #General Species Information"
   ]
  },
  {
   "cell_type": "code",
   "execution_count": null,
   "id": "068aeb86",
   "metadata": {},
   "outputs": [],
   "source": [
    "for d in os.listdir(path): #display all of the species geometries\n",
    "    if d != \"info.json\" and os.path.exists(os.path.join(path,d,\"vib.json_vib.json\")):\n",
    "        view(read(os.path.join(path,d,d+\".xyz\")))     "
   ]
  },
  {
   "cell_type": "code",
   "execution_count": null,
   "id": "08b656c3",
   "metadata": {},
   "outputs": [],
   "source": [
    "ind = 0 #display species geometry associated with specified index\n",
    "view(read(os.path.join(path,str(ind),str(ind)+\".xyz\")))"
   ]
  },
  {
   "cell_type": "markdown",
   "id": "9bd32ec2",
   "metadata": {},
   "source": [
    "# Analyze Transition State\n"
   ]
  },
  {
   "cell_type": "code",
   "execution_count": null,
   "id": "02d9c6ab",
   "metadata": {},
   "outputs": [],
   "source": [
    "path = \"/Users/mjohns9/Runs/pynta/Cu111_paper_rxns/TS1\" #specify the TS directory to analyze\n",
    "metal = \"Cu\" #specify the metal\n",
    "facet = \"fcc111\" #specify the facet"
   ]
  },
  {
   "cell_type": "code",
   "execution_count": null,
   "id": "db46993c",
   "metadata": {},
   "outputs": [],
   "source": [
    "plot_eharm(path,Eharmtol=3.0,Eharmfiltertol=30.0) #plot the harmonic energies of the transition state guesses and cutoffs "
   ]
  },
  {
   "cell_type": "code",
   "execution_count": null,
   "id": "8f5c68a4",
   "metadata": {},
   "outputs": [],
   "source": [
    "Es,thermos,freqs = get_energies(path) #extract transition state information"
   ]
  },
  {
   "cell_type": "code",
   "execution_count": null,
   "id": "d916e140",
   "metadata": {},
   "outputs": [],
   "source": [
    "Es #energies for each unique successful saddle point optimization"
   ]
  },
  {
   "cell_type": "code",
   "execution_count": null,
   "id": "56273b21",
   "metadata": {},
   "outputs": [],
   "source": [
    "freqs #frequencies for each unique successful saddle point optimization"
   ]
  },
  {
   "cell_type": "code",
   "execution_count": null,
   "id": "6887dfc0",
   "metadata": {},
   "outputs": [],
   "source": [
    "info = json.load(open(os.path.join(path,\"info.json\"),'r')) #General Transition State Information\n",
    "info"
   ]
  },
  {
   "cell_type": "code",
   "execution_count": null,
   "id": "82aa4e01",
   "metadata": {},
   "outputs": [],
   "source": [
    "fdEs,rdEs,farrs,rarrs,rthermos,pthermos = get_kinetics(path,metal,facet) #calculate barriers and rate coefficients"
   ]
  },
  {
   "cell_type": "code",
   "execution_count": null,
   "id": "9f26eae8",
   "metadata": {},
   "outputs": [],
   "source": [
    "info[\"species_names\"] #Reactants in forward direction"
   ]
  },
  {
   "cell_type": "code",
   "execution_count": null,
   "id": "9ed8fc01",
   "metadata": {},
   "outputs": [],
   "source": [
    "fdEs #forward barriers"
   ]
  },
  {
   "cell_type": "code",
   "execution_count": null,
   "id": "18895197",
   "metadata": {},
   "outputs": [],
   "source": [
    "farrs #forward rate coefficients"
   ]
  },
  {
   "cell_type": "code",
   "execution_count": null,
   "id": "43df3d39",
   "metadata": {},
   "outputs": [],
   "source": [
    "info[\"reverse_names\"] #Reactants in the reverse direction"
   ]
  },
  {
   "cell_type": "code",
   "execution_count": null,
   "id": "13e60de4",
   "metadata": {},
   "outputs": [],
   "source": [
    "rdEs #reverse barriers\n"
   ]
  },
  {
   "cell_type": "code",
   "execution_count": null,
   "id": "137b55d7",
   "metadata": {},
   "outputs": [],
   "source": [
    "rarrs #reverse rate coefficients\n"
   ]
  },
  {
   "cell_type": "code",
   "execution_count": null,
   "id": "66ec7253",
   "metadata": {},
   "outputs": [],
   "source": [
    "get_gibbs_energy_reaction(rthermos,pthermos,298.)/1000.0 #Gibbs free energy of reaction at 298 K in kJ/mol"
   ]
  },
  {
   "cell_type": "code",
   "execution_count": null,
   "id": "06ac822b",
   "metadata": {},
   "outputs": [],
   "source": [
    "get_entropy_reaction(rthermos,pthermos,298.) #Entropy of reaciton at 298 K in J/(mol K)"
   ]
  },
  {
   "cell_type": "code",
   "execution_count": null,
   "id": "f9c16e4e",
   "metadata": {},
   "outputs": [],
   "source": [
    "get_enthalpy_reaction(rthermos,pthermos,298.)/1000.0 #Enthalpy of reaction at 298 K in kJ/mol"
   ]
  },
  {
   "cell_type": "markdown",
   "id": "65e1b9e7",
   "metadata": {},
   "source": [
    "# Look at Individual TS "
   ]
  },
  {
   "cell_type": "code",
   "execution_count": null,
   "id": "5f9a8a07",
   "metadata": {},
   "outputs": [],
   "source": [
    "ind = \"13\" #specify the index of the transition state to examine\n",
    "tsdir = os.path.join(path,ind)"
   ]
  },
  {
   "cell_type": "code",
   "execution_count": null,
   "id": "993ed844",
   "metadata": {},
   "outputs": [],
   "source": [
    "view(read(os.path.join(tsdir,\"opt.xyz\"))) #TS geometry"
   ]
  },
  {
   "cell_type": "code",
   "execution_count": null,
   "id": "a8cc3b7a",
   "metadata": {
    "scrolled": true
   },
   "outputs": [],
   "source": [
    "tr = Trajectory(os.path.join(tsdir,\"irc_forward.traj\")) #first IRC\n",
    "view(tr)"
   ]
  },
  {
   "cell_type": "code",
   "execution_count": null,
   "id": "57b84fc0",
   "metadata": {},
   "outputs": [],
   "source": [
    "tr = Trajectory(os.path.join(tsdir,\"irc_reverse.traj\")) #second IRC\n",
    "view(tr)"
   ]
  },
  {
   "cell_type": "code",
   "execution_count": null,
   "id": "0eda63db",
   "metadata": {},
   "outputs": [],
   "source": [
    "tr = Trajectory(os.path.join(tsdir,'vib.0.traj')) #Imaginary Mode\n",
    "view(tr)"
   ]
  },
  {
   "cell_type": "code",
   "execution_count": null,
   "id": "9ed7745f",
   "metadata": {},
   "outputs": [],
   "source": []
  }
 ],
 "metadata": {
  "kernelspec": {
   "display_name": "Python 3 (ipykernel)",
   "language": "python",
   "name": "python3"
  },
  "language_info": {
   "codemirror_mode": {
    "name": "ipython",
    "version": 3
   },
   "file_extension": ".py",
   "mimetype": "text/x-python",
   "name": "python",
   "nbconvert_exporter": "python",
   "pygments_lexer": "ipython3",
   "version": "3.8.15"
  }
 },
 "nbformat": 4,
 "nbformat_minor": 5
}